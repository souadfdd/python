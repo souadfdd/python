{
 "cells": [
  {
   "cell_type": "code",
   "execution_count": 2,
   "id": "0e378bc3",
   "metadata": {},
   "outputs": [
    {
     "data": {
      "text/plain": [
       "['data', 'target', 'frame', 'feature_names', 'target_names', 'images', 'DESCR']"
      ]
     },
     "execution_count": 2,
     "metadata": {},
     "output_type": "execute_result"
    }
   ],
   "source": [
    "from sklearn.datasets import load_digits\n",
    "\n",
    "from sklearn.datasets import load_digits\n",
    "# loading the  load_digits dataset\n",
    "dataset = load_digits()\n",
    "\n",
    "list(dataset.keys())"
   ]
  },
  {
   "cell_type": "code",
   "execution_count": 3,
   "id": "be5ed204",
   "metadata": {},
   "outputs": [
    {
     "name": "stdout",
     "output_type": "stream",
     "text": [
      "Target variables  :  [0 1 2 3 4 5 6 7 8 9]\n",
      "Unique values of the target variable [0 1 2 3 4 5 6 7 8 9]\n",
      "Counts of the target variable : [178 182 177 183 181 182 181 179 174 180]\n"
     ]
    }
   ],
   "source": [
    "import numpy as np\n",
    "\n",
    "print('Target variables  : ', dataset['target_names'])\n",
    "\n",
    "(unique, counts) = np.unique(dataset['target'], return_counts=True)\n",
    "\n",
    "print('Unique values of the target variable', unique)\n",
    "print('Counts of the target variable :', counts)"
   ]
  },
  {
   "cell_type": "code",
   "execution_count": 4,
   "id": "7cec34c0",
   "metadata": {},
   "outputs": [
    {
     "data": {
      "image/png": "[encoded data removed]",
      "text/plain": [
       "<Figure size 432x288 with 1 Axes>"
      ]
     },
     "metadata": {
      "needs_background": "light"
     },
     "output_type": "display_data"
    }
   ],
   "source": [
    "import seaborn as sns\n",
    "import matplotlib.pyplot as plt\n",
    "\n",
    "sns.barplot(x=dataset['target_names'], y=counts)\n",
    "plt.title('Target variable counts in dataset')\n",
    "plt.show()"
   ]
  },
  {
   "cell_type": "code",
   "execution_count": 6,
   "id": "aaa9a7ba",
   "metadata": {},
   "outputs": [],
   "source": [
    "# Step 1: Define explonatory variables and target variable\n",
    "\n",
    "X = dataset['data']\n",
    "y = dataset['target']\n"
   ]
  },
  {
   "cell_type": "code",
   "execution_count": 7,
   "id": "2a06e67c",
   "metadata": {},
   "outputs": [],
   "source": [
    "# Step 2:  Apply normalization operation for numerical stability\n",
    "\n",
    "from sklearn.preprocessing import StandardScaler\n",
    "standardizer = StandardScaler()\n",
    "X = standardizer.fit_transform(X)"
   ]
  },
  {
   "cell_type": "code",
   "execution_count": 8,
   "id": "dd0f3ada",
   "metadata": {},
   "outputs": [],
   "source": [
    "# Step 3: Split the dataset into training and testing sets\n",
    "\n",
    "from sklearn.model_selection import train_test_split\n",
    "\n",
    "X_train, X_test, y_train, y_test = train_test_split(X, y , test_size=0.25, random_state=0)\n"
   ]
  },
  {
   "cell_type": "code",
   "execution_count": 9,
   "id": "2928a805",
   "metadata": {},
   "outputs": [
    {
     "data": {
      "text/plain": [
       "LogisticRegression()"
      ]
     },
     "execution_count": 9,
     "metadata": {},
     "output_type": "execute_result"
    }
   ],
   "source": [
    "# Step 4: Fit a Logistic Regression Model to the train data\n",
    "\n",
    "from sklearn.linear_model import LogisticRegression\n",
    "log_reg = LogisticRegression()\n",
    "log_reg.fit(X_train, y_train)\n"
   ]
  },
  {
   "cell_type": "code",
   "execution_count": 10,
   "id": "94bf9504",
   "metadata": {},
   "outputs": [
    {
     "name": "stdout",
     "output_type": "stream",
     "text": [
      "[2 8 2 6 6 7 1 9 8 5 2 8 6 6 6 6 1 0 5 8 8 7 8 4 7 5 4 9 2 9 4 7 6 8 9 4 3\n",
      " 1 0 1 8 6 7 7 1 0 7 6 2 1 9 6 7 9 0 0 9 1 6 3 0 2 3 4 1 9 2 6 9 1 8 3 5 1\n",
      " 2 8 2 2 9 7 2 3 6 0 5 3 7 5 1 2 9 9 3 1 4 7 4 8 5 8 5 5 2 5 9 0 7 1 4 7 3\n",
      " 4 8 9 7 9 8 2 1 5 2 5 8 4 1 7 0 6 1 5 5 9 9 5 9 9 5 7 5 6 2 8 6 9 6 1 5 1\n",
      " 5 9 9 1 5 3 6 1 8 9 8 7 6 7 6 5 6 0 8 8 9 8 6 1 0 4 1 6 3 8 6 7 4 9 6 3 0\n",
      " 3 3 3 0 7 7 5 7 8 0 7 1 9 6 4 5 0 1 4 6 4 3 3 0 9 5 9 2 1 4 2 1 6 8 9 2 4\n",
      " 9 3 7 6 2 3 3 1 6 9 3 6 3 2 2 0 7 6 1 1 9 7 2 7 8 5 5 7 5 2 3 7 2 7 5 5 7\n",
      " 0 9 1 6 5 9 7 4 3 8 0 3 6 4 6 3 2 6 8 8 8 4 6 7 5 2 4 5 3 2 4 6 9 4 5 4 3\n",
      " 4 6 2 9 0 8 7 2 0 9 6 0 4 2 0 7 9 8 5 7 8 2 8 4 3 7 2 6 9 9 5 1 0 8 2 8 9\n",
      " 5 6 2 2 7 2 1 5 1 6 4 5 0 9 4 1 1 7 0 8 9 0 5 4 3 8 8 6 5 3 4 4 4 8 8 7 0\n",
      " 9 6 3 5 2 3 0 8 8 3 1 3 3 0 0 4 6 0 7 7 6 2 0 4 4 2 3 7 1 9 8 6 8 5 6 2 2\n",
      " 3 1 7 7 8 0 3 3 2 1 5 5 9 1 3 7 0 0 7 0 4 5 9 3 3 4 3 1 8 9 8 3 6 3 1 6 2\n",
      " 1 7 5 5 1 9]\n"
     ]
    }
   ],
   "source": [
    "# Step 5: Make predictions on the testing data\n",
    "\n",
    "y_pred = log_reg.predict(X_test)\n",
    "\n",
    "print(y_pred)\n",
    "\n"
   ]
  },
  {
   "cell_type": "code",
   "execution_count": 11,
   "id": "2f0ed10d",
   "metadata": {},
   "outputs": [
    {
     "name": "stdout",
     "output_type": "stream",
     "text": [
      "[[1.60431225e-07 1.68776124e-06 9.99977460e-01 ... 1.05648764e-05\n",
      "  7.46813386e-07 3.02862254e-07]\n",
      " [8.10958744e-05 6.22908543e-04 6.56525905e-03 ... 1.36927241e-05\n",
      "  8.85347435e-01 4.39997424e-04]\n",
      " [1.05633860e-10 6.78520271e-07 9.99995816e-01 ... 1.44366845e-08\n",
      "  2.70602341e-08 7.26108358e-10]\n",
      " ...\n",
      " [8.52042111e-06 3.05480002e-07 1.66325831e-08 ... 6.86311476e-08\n",
      "  6.11226842e-06 1.19866923e-04]\n",
      " [1.41011525e-06 8.63241459e-01 2.90409707e-04 ... 1.10408312e-05\n",
      "  9.13773053e-02 6.64673668e-06]\n",
      " [4.40032508e-05 1.04528507e-08 2.20654490e-07 ... 1.79475486e-06\n",
      "  6.06047882e-05 9.98743434e-01]]\n"
     ]
    }
   ],
   "source": [
    "y_proba = log_reg.predict_proba(X_test)\n",
    "print(y_proba)"
   ]
  },
  {
   "cell_type": "code",
   "execution_count": 12,
   "id": "210e4ea8",
   "metadata": {},
   "outputs": [
    {
     "name": "stdout",
     "output_type": "stream",
     "text": [
      "[[37  0  0  0  0  0  0  0  0  0]\n",
      " [ 0 40  0  0  0  0  0  0  2  1]\n",
      " [ 0  0 43  1  0  0  0  0  0  0]\n",
      " [ 0  0  0 44  0  0  0  0  1  0]\n",
      " [ 0  0  0  0 37  0  0  1  0  0]\n",
      " [ 0  0  0  0  0 46  0  0  0  2]\n",
      " [ 0  1  0  0  0  0 51  0  0  0]\n",
      " [ 0  0  0  0  1  0  0 47  0  0]\n",
      " [ 0  3  1  0  0  0  0  0 44  0]\n",
      " [ 0  0  0  0  0  1  0  0  0 46]]\n"
     ]
    }
   ],
   "source": [
    "from sklearn.metrics import confusion_matrix\n",
    "\n",
    "conf_matrix = confusion_matrix(y_test, y_pred)\n",
    "\n",
    "print(conf_matrix)\n"
   ]
  },
  {
   "cell_type": "code",
   "execution_count": 13,
   "id": "ebe76250",
   "metadata": {},
   "outputs": [
    {
     "data": {
      "text/plain": [
       "<AxesSubplot:title={'center':'Confusion Matrix'}, xlabel='Predicted', ylabel='Actual'>"
      ]
     },
     "execution_count": 13,
     "metadata": {},
     "output_type": "execute_result"
    },
    {
     "data": {
      "image/png": "[encoded data removed]",
      "text/plain": [
       "<Figure size 144x144 with 2 Axes>"
      ]
     },
     "metadata": {
      "needs_background": "light"
     },
     "output_type": "display_data"
    }
   ],
   "source": [
    "import pandas as pd\n",
    "import numpy as np\n",
    "import matplotlib.pyplot as plt\n",
    "\n",
    "df_cm = pd.DataFrame(conf_matrix, columns=np.unique(y_test), index = np.unique(y_test))\n",
    "df_cm.index.name = 'Actual'\n",
    "df_cm.columns.name = 'Predicted'\n",
    "\n",
    "plt.figure(figsize = (2,2))\n",
    "sns.set(font_scale=1.4)#for label size\n",
    "plt.title('Confusion Matrix')\n",
    "sns.heatmap(df_cm, annot=True,annot_kws={\"size\": 12})# font size"
   ]
  },
  {
   "cell_type": "code",
   "execution_count": 15,
   "id": "705f2b55",
   "metadata": {},
   "outputs": [
    {
     "data": {
      "image/png": "[encoded data removed]",
      "text/plain": [
       "<Figure size 216x216 with 1 Axes>"
      ]
     },
     "metadata": {},
     "output_type": "display_data"
    }
   ],
   "source": [
    "#\n",
    "# Print the confusion matrix using Matplotlib\n",
    "#\n",
    "fig, ax = plt.subplots(figsize=(3, 3))\n",
    "ax.matshow(conf_matrix, cmap=plt.cm.Oranges, alpha=0.3)\n",
    "for i in range(conf_matrix.shape[0]):\n",
    "    for j in range(conf_matrix.shape[1]):\n",
    "        ax.text(x=j, y=i,s=conf_matrix[i, j], va='center', ha='center', size='xx-large')\n",
    " \n",
    "plt.xlabel('Predicted', fontsize=30)\n",
    "plt.ylabel('Actuals', fontsize=30)\n",
    "plt.title('Confusion Matrix', fontsize=30)\n",
    "plt.show()"
   ]
  },
  {
   "cell_type": "code",
   "execution_count": 16,
   "id": "0d179375",
   "metadata": {},
   "outputs": [
    {
     "name": "stdout",
     "output_type": "stream",
     "text": [
      "macro-averaging Recall = 0.967\n",
      "micro-averaging Recall = 0.967\n",
      "weighted-averaging Recall = 0.967\n",
      "macro-averaging Precision = 0.967\n",
      "micro-averaging Precision = 0.967\n",
      "weighted-averaging Precision = 0.967\n",
      "macro-averaging F1_measure = 0.967\n",
      "micro-averaging F1_measureF1_measure = 0.967\n",
      "weighted-averaging F1_measureF1_measure = 0.967\n"
     ]
    }
   ],
   "source": [
    "from sklearn.metrics import precision_score, recall_score, f1_score, classification_report\n",
    "\n",
    "print('macro-averaging Recall = {:0.3f}'.format(recall_score(y_test, y_pred, average='macro')))\n",
    "print('micro-averaging Recall = {:0.3f}'.format(recall_score(y_test, y_pred, average='micro')))\n",
    "print('weighted-averaging Recall = {:0.3f}'.format(recall_score(y_test, y_pred, average='weighted')))\n",
    "print('macro-averaging Precision = {:0.3f}'.format(precision_score(y_test, y_pred, average='macro')))\n",
    "print('micro-averaging Precision = {:0.3f}'.format(precision_score(y_test, y_pred, average='micro')))\n",
    "print('weighted-averaging Precision = {:0.3f}'.format(precision_score(y_test, y_pred, average='weighted')))\n",
    "print('macro-averaging F1_measure = {:0.3f}'.format(f1_score(y_test, y_pred, average='macro')))\n",
    "print('micro-averaging F1_measureF1_measure = {:0.3f}'.format(f1_score(y_test, y_pred, average='micro')))\n",
    "print('weighted-averaging F1_measureF1_measure = {:0.3f}'.format(f1_score(y_test, y_pred, average='weighted')))\n"
   ]
  },
  {
   "cell_type": "code",
   "execution_count": 17,
   "id": "feba7c20",
   "metadata": {},
   "outputs": [
    {
     "name": "stdout",
     "output_type": "stream",
     "text": [
      "              precision    recall  f1-score   support\n",
      "\n",
      "           0       1.00      1.00      1.00        37\n",
      "           1       0.91      0.93      0.92        43\n",
      "           2       0.98      0.98      0.98        44\n",
      "           3       0.98      0.98      0.98        45\n",
      "           4       0.97      0.97      0.97        38\n",
      "           5       0.98      0.96      0.97        48\n",
      "           6       1.00      0.98      0.99        52\n",
      "           7       0.98      0.98      0.98        48\n",
      "           8       0.94      0.92      0.93        48\n",
      "           9       0.94      0.98      0.96        47\n",
      "\n",
      "    accuracy                           0.97       450\n",
      "   macro avg       0.97      0.97      0.97       450\n",
      "weighted avg       0.97      0.97      0.97       450\n",
      "\n"
     ]
    }
   ],
   "source": [
    "from sklearn.metrics import classification_report\n",
    "\n",
    "print(classification_report(y_test, y_pred))"
   ]
  },
  {
   "cell_type": "code",
   "execution_count": 18,
   "id": "fccb5e73",
   "metadata": {},
   "outputs": [
    {
     "name": "stdout",
     "output_type": "stream",
     "text": [
      "              precision    recall  f1-score   support\n",
      "\n",
      "           0       1.00      1.00      1.00        37\n",
      "           1       0.91      0.93      0.92        43\n",
      "           2       0.98      0.98      0.98        44\n",
      "           3       0.98      0.98      0.98        45\n",
      "           4       0.97      0.97      0.97        38\n",
      "           5       0.98      0.96      0.97        48\n",
      "           6       1.00      0.98      0.99        52\n",
      "           7       0.98      0.98      0.98        48\n",
      "           8       0.94      0.92      0.93        48\n",
      "           9       0.94      0.98      0.96        47\n",
      "\n",
      "    accuracy                           0.97       450\n",
      "   macro avg       0.97      0.97      0.97       450\n",
      "weighted avg       0.97      0.97      0.97       450\n",
      "\n",
      "macro-averaging Recall = 0.967\n",
      "micro-averaging Recall = 0.967\n",
      "weighted-averaging Recall = 0.967\n",
      "macro-averaging Precision = 0.967\n",
      "micro-averaging Precision = 0.967\n",
      "weighted-averaging Precision = 0.967\n",
      "macro-averaging F1_measure = 0.967\n",
      "micro-averaging F1_measureF1_measure = 0.967\n",
      "weighted-averaging F1_measureF1_measure = 0.967\n"
     ]
    }
   ],
   "source": [
    "softmax_reg = LogisticRegression(solver='lbfgs', multi_class='multinomial')\n",
    "softmax_reg.fit(X_train, y_train)\n",
    "y_pred = softmax_reg.predict(X_test)\n",
    "\n",
    "print(classification_report(y_test, y_pred))\n",
    "\n",
    "print('macro-averaging Recall = {:0.3f}'.format(recall_score(y_test, y_pred, average='macro')))\n",
    "print('micro-averaging Recall = {:0.3f}'.format(recall_score(y_test, y_pred, average='micro')))\n",
    "print('weighted-averaging Recall = {:0.3f}'.format(recall_score(y_test, y_pred, average='weighted')))\n",
    "print('macro-averaging Precision = {:0.3f}'.format(precision_score(y_test, y_pred, average='macro')))\n",
    "print('micro-averaging Precision = {:0.3f}'.format(precision_score(y_test, y_pred, average='micro')))\n",
    "print('weighted-averaging Precision = {:0.3f}'.format(precision_score(y_test, y_pred, average='weighted')))\n",
    "print('macro-averaging F1_measure = {:0.3f}'.format(f1_score(y_test, y_pred, average='macro')))\n",
    "print('micro-averaging F1_measureF1_measure = {:0.3f}'.format(f1_score(y_test, y_pred, average='micro')))\n",
    "print('weighted-averaging F1_measureF1_measure = {:0.3f}'.format(f1_score(y_test, y_pred, average='weighted')))"
   ]
  },
  {
   "cell_type": "code",
   "execution_count": null,
   "id": "d38f8e74",
   "metadata": {},
   "outputs": [],
   "source": []
  }
 ],
 "metadata": {
  "kernelspec": {
   "display_name": "Python 3",
   "language": "python",
   "name": "python3"
  },
  "language_info": {
   "codemirror_mode": {
    "name": "ipython",
    "version": 3
   },
   "file_extension": ".py",
   "mimetype": "text/x-python",
   "name": "python",
   "nbconvert_exporter": "python",
   "pygments_lexer": "ipython3",
   "version": "3.8.8"
  }
 },
 "nbformat": 4,
 "nbformat_minor": 5
}
